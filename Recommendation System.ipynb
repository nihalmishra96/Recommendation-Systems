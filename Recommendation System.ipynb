{
 "cells": [
  {
   "attachments": {},
   "cell_type": "markdown",
   "metadata": {},
   "source": [
    "# Recommendation System"
   ]
  },
  {
   "cell_type": "code",
   "execution_count": 26,
   "metadata": {},
   "outputs": [],
   "source": [
    "import pandas as pd\n",
    "from sklearn.feature_extraction.text import TfidfVectorizer\n",
    "from sklearn.metrics.pairwise import cosine_similarity\n",
    "import matplotlib.pyplot as plt\n",
    "import seaborn as sns\n"
   ]
  },
  {
   "cell_type": "code",
   "execution_count": 27,
   "metadata": {},
   "outputs": [
    {
     "name": "stderr",
     "output_type": "stream",
     "text": [
      "/var/folders/rz/kzx767sj7xg8w2bx7q8ksm1w0000gn/T/ipykernel_97084/2861059789.py:3: DtypeWarning: Columns (3) have mixed types. Specify dtype option on import or set low_memory=False.\n",
      "  content_books = pd.read_csv('Books.csv')\n"
     ]
    }
   ],
   "source": [
    "\n",
    "content_ratings = pd.read_csv('Ratings.csv')\n",
    "content_users = pd.read_csv('Users.csv')\n",
    "content_books = pd.read_csv('Books.csv')"
   ]
  },
  {
   "cell_type": "code",
   "execution_count": 28,
   "metadata": {},
   "outputs": [
    {
     "data": {
      "text/html": [
       "<div>\n",
       "<style scoped>\n",
       "    .dataframe tbody tr th:only-of-type {\n",
       "        vertical-align: middle;\n",
       "    }\n",
       "\n",
       "    .dataframe tbody tr th {\n",
       "        vertical-align: top;\n",
       "    }\n",
       "\n",
       "    .dataframe thead th {\n",
       "        text-align: right;\n",
       "    }\n",
       "</style>\n",
       "<table border=\"1\" class=\"dataframe\">\n",
       "  <thead>\n",
       "    <tr style=\"text-align: right;\">\n",
       "      <th></th>\n",
       "      <th>ISBN</th>\n",
       "      <th>Book-Title</th>\n",
       "      <th>Book-Author</th>\n",
       "      <th>Year-Of-Publication</th>\n",
       "      <th>Publisher</th>\n",
       "      <th>Image-URL-S</th>\n",
       "      <th>Image-URL-M</th>\n",
       "      <th>Image-URL-L</th>\n",
       "    </tr>\n",
       "  </thead>\n",
       "  <tbody>\n",
       "    <tr>\n",
       "      <th>0</th>\n",
       "      <td>0195153448</td>\n",
       "      <td>Classical Mythology</td>\n",
       "      <td>Mark P. O. Morford</td>\n",
       "      <td>2002</td>\n",
       "      <td>Oxford University Press</td>\n",
       "      <td>http://images.amazon.com/images/P/0195153448.0...</td>\n",
       "      <td>http://images.amazon.com/images/P/0195153448.0...</td>\n",
       "      <td>http://images.amazon.com/images/P/0195153448.0...</td>\n",
       "    </tr>\n",
       "    <tr>\n",
       "      <th>1</th>\n",
       "      <td>0002005018</td>\n",
       "      <td>Clara Callan</td>\n",
       "      <td>Richard Bruce Wright</td>\n",
       "      <td>2001</td>\n",
       "      <td>HarperFlamingo Canada</td>\n",
       "      <td>http://images.amazon.com/images/P/0002005018.0...</td>\n",
       "      <td>http://images.amazon.com/images/P/0002005018.0...</td>\n",
       "      <td>http://images.amazon.com/images/P/0002005018.0...</td>\n",
       "    </tr>\n",
       "    <tr>\n",
       "      <th>2</th>\n",
       "      <td>0060973129</td>\n",
       "      <td>Decision in Normandy</td>\n",
       "      <td>Carlo D'Este</td>\n",
       "      <td>1991</td>\n",
       "      <td>HarperPerennial</td>\n",
       "      <td>http://images.amazon.com/images/P/0060973129.0...</td>\n",
       "      <td>http://images.amazon.com/images/P/0060973129.0...</td>\n",
       "      <td>http://images.amazon.com/images/P/0060973129.0...</td>\n",
       "    </tr>\n",
       "    <tr>\n",
       "      <th>3</th>\n",
       "      <td>0374157065</td>\n",
       "      <td>Flu: The Story of the Great Influenza Pandemic...</td>\n",
       "      <td>Gina Bari Kolata</td>\n",
       "      <td>1999</td>\n",
       "      <td>Farrar Straus Giroux</td>\n",
       "      <td>http://images.amazon.com/images/P/0374157065.0...</td>\n",
       "      <td>http://images.amazon.com/images/P/0374157065.0...</td>\n",
       "      <td>http://images.amazon.com/images/P/0374157065.0...</td>\n",
       "    </tr>\n",
       "    <tr>\n",
       "      <th>4</th>\n",
       "      <td>0393045218</td>\n",
       "      <td>The Mummies of Urumchi</td>\n",
       "      <td>E. J. W. Barber</td>\n",
       "      <td>1999</td>\n",
       "      <td>W. W. Norton &amp;amp; Company</td>\n",
       "      <td>http://images.amazon.com/images/P/0393045218.0...</td>\n",
       "      <td>http://images.amazon.com/images/P/0393045218.0...</td>\n",
       "      <td>http://images.amazon.com/images/P/0393045218.0...</td>\n",
       "    </tr>\n",
       "  </tbody>\n",
       "</table>\n",
       "</div>"
      ],
      "text/plain": [
       "         ISBN                                         Book-Title  \\\n",
       "0  0195153448                                Classical Mythology   \n",
       "1  0002005018                                       Clara Callan   \n",
       "2  0060973129                               Decision in Normandy   \n",
       "3  0374157065  Flu: The Story of the Great Influenza Pandemic...   \n",
       "4  0393045218                             The Mummies of Urumchi   \n",
       "\n",
       "            Book-Author Year-Of-Publication                   Publisher  \\\n",
       "0    Mark P. O. Morford                2002     Oxford University Press   \n",
       "1  Richard Bruce Wright                2001       HarperFlamingo Canada   \n",
       "2          Carlo D'Este                1991             HarperPerennial   \n",
       "3      Gina Bari Kolata                1999        Farrar Straus Giroux   \n",
       "4       E. J. W. Barber                1999  W. W. Norton &amp; Company   \n",
       "\n",
       "                                         Image-URL-S  \\\n",
       "0  http://images.amazon.com/images/P/0195153448.0...   \n",
       "1  http://images.amazon.com/images/P/0002005018.0...   \n",
       "2  http://images.amazon.com/images/P/0060973129.0...   \n",
       "3  http://images.amazon.com/images/P/0374157065.0...   \n",
       "4  http://images.amazon.com/images/P/0393045218.0...   \n",
       "\n",
       "                                         Image-URL-M  \\\n",
       "0  http://images.amazon.com/images/P/0195153448.0...   \n",
       "1  http://images.amazon.com/images/P/0002005018.0...   \n",
       "2  http://images.amazon.com/images/P/0060973129.0...   \n",
       "3  http://images.amazon.com/images/P/0374157065.0...   \n",
       "4  http://images.amazon.com/images/P/0393045218.0...   \n",
       "\n",
       "                                         Image-URL-L  \n",
       "0  http://images.amazon.com/images/P/0195153448.0...  \n",
       "1  http://images.amazon.com/images/P/0002005018.0...  \n",
       "2  http://images.amazon.com/images/P/0060973129.0...  \n",
       "3  http://images.amazon.com/images/P/0374157065.0...  \n",
       "4  http://images.amazon.com/images/P/0393045218.0...  "
      ]
     },
     "execution_count": 28,
     "metadata": {},
     "output_type": "execute_result"
    }
   ],
   "source": [
    "content_books.head()\n"
   ]
  },
  {
   "cell_type": "code",
   "execution_count": 29,
   "metadata": {},
   "outputs": [
    {
     "name": "stdout",
     "output_type": "stream",
     "text": [
      "Null values in books data: \n",
      " ISBN                   0\n",
      "Book-Title             0\n",
      "Book-Author            1\n",
      "Year-Of-Publication    0\n",
      "Publisher              2\n",
      "Image-URL-S            0\n",
      "Image-URL-M            0\n",
      "Image-URL-L            3\n",
      "dtype: int64\n"
     ]
    }
   ],
   "source": [
    "print(\"Null values in books data: \\n\", content_books.isnull().sum())\n"
   ]
  },
  {
   "cell_type": "code",
   "execution_count": 30,
   "metadata": {},
   "outputs": [],
   "source": [
    "content_books.drop(['Image-URL-S', 'Image-URL-M', 'Image-URL-L', 'Year-Of-Publication'], axis=1, inplace=True)\n",
    "\n",
    "content_users.drop(['Location', 'Age'], axis=1, inplace=True)\n"
   ]
  },
  {
   "cell_type": "code",
   "execution_count": 31,
   "metadata": {},
   "outputs": [],
   "source": [
    "content1 = pd.merge(content_ratings, content_books, on='ISBN')\n",
    "result = pd.merge(content1, content_users, on='User-ID')"
   ]
  },
  {
   "cell_type": "code",
   "execution_count": 32,
   "metadata": {},
   "outputs": [
    {
     "data": {
      "text/plain": [
       "(1031136, 6)"
      ]
     },
     "execution_count": 32,
     "metadata": {},
     "output_type": "execute_result"
    }
   ],
   "source": [
    "result.shape"
   ]
  },
  {
   "cell_type": "code",
   "execution_count": 33,
   "metadata": {},
   "outputs": [],
   "source": [
    "result['Features'] = result['Book-Title'] + ', ' + result['Book-Author'] + ', ' + result['Publisher']"
   ]
  },
  {
   "cell_type": "code",
   "execution_count": 34,
   "metadata": {},
   "outputs": [
    {
     "data": {
      "text/html": [
       "<div>\n",
       "<style scoped>\n",
       "    .dataframe tbody tr th:only-of-type {\n",
       "        vertical-align: middle;\n",
       "    }\n",
       "\n",
       "    .dataframe tbody tr th {\n",
       "        vertical-align: top;\n",
       "    }\n",
       "\n",
       "    .dataframe thead th {\n",
       "        text-align: right;\n",
       "    }\n",
       "</style>\n",
       "<table border=\"1\" class=\"dataframe\">\n",
       "  <thead>\n",
       "    <tr style=\"text-align: right;\">\n",
       "      <th></th>\n",
       "      <th>User-ID</th>\n",
       "      <th>ISBN</th>\n",
       "      <th>Book-Rating</th>\n",
       "      <th>Book-Title</th>\n",
       "      <th>Book-Author</th>\n",
       "      <th>Publisher</th>\n",
       "      <th>Features</th>\n",
       "    </tr>\n",
       "  </thead>\n",
       "  <tbody>\n",
       "    <tr>\n",
       "      <th>0</th>\n",
       "      <td>276725</td>\n",
       "      <td>034545104X</td>\n",
       "      <td>0</td>\n",
       "      <td>Flesh Tones: A Novel</td>\n",
       "      <td>M. J. Rose</td>\n",
       "      <td>Ballantine Books</td>\n",
       "      <td>Flesh Tones: A Novel, M. J. Rose, Ballantine B...</td>\n",
       "    </tr>\n",
       "    <tr>\n",
       "      <th>1</th>\n",
       "      <td>2313</td>\n",
       "      <td>034545104X</td>\n",
       "      <td>5</td>\n",
       "      <td>Flesh Tones: A Novel</td>\n",
       "      <td>M. J. Rose</td>\n",
       "      <td>Ballantine Books</td>\n",
       "      <td>Flesh Tones: A Novel, M. J. Rose, Ballantine B...</td>\n",
       "    </tr>\n",
       "    <tr>\n",
       "      <th>2</th>\n",
       "      <td>2313</td>\n",
       "      <td>0812533550</td>\n",
       "      <td>9</td>\n",
       "      <td>Ender's Game (Ender Wiggins Saga (Paperback))</td>\n",
       "      <td>Orson Scott Card</td>\n",
       "      <td>Tor Books</td>\n",
       "      <td>Ender's Game (Ender Wiggins Saga (Paperback)),...</td>\n",
       "    </tr>\n",
       "    <tr>\n",
       "      <th>3</th>\n",
       "      <td>2313</td>\n",
       "      <td>0679745580</td>\n",
       "      <td>8</td>\n",
       "      <td>In Cold Blood (Vintage International)</td>\n",
       "      <td>TRUMAN CAPOTE</td>\n",
       "      <td>Vintage</td>\n",
       "      <td>In Cold Blood (Vintage International), TRUMAN ...</td>\n",
       "    </tr>\n",
       "    <tr>\n",
       "      <th>4</th>\n",
       "      <td>2313</td>\n",
       "      <td>0060173289</td>\n",
       "      <td>9</td>\n",
       "      <td>Divine Secrets of the Ya-Ya Sisterhood : A Novel</td>\n",
       "      <td>Rebecca Wells</td>\n",
       "      <td>HarperCollins</td>\n",
       "      <td>Divine Secrets of the Ya-Ya Sisterhood : A Nov...</td>\n",
       "    </tr>\n",
       "  </tbody>\n",
       "</table>\n",
       "</div>"
      ],
      "text/plain": [
       "   User-ID        ISBN  Book-Rating  \\\n",
       "0   276725  034545104X            0   \n",
       "1     2313  034545104X            5   \n",
       "2     2313  0812533550            9   \n",
       "3     2313  0679745580            8   \n",
       "4     2313  0060173289            9   \n",
       "\n",
       "                                         Book-Title       Book-Author  \\\n",
       "0                              Flesh Tones: A Novel        M. J. Rose   \n",
       "1                              Flesh Tones: A Novel        M. J. Rose   \n",
       "2     Ender's Game (Ender Wiggins Saga (Paperback))  Orson Scott Card   \n",
       "3             In Cold Blood (Vintage International)     TRUMAN CAPOTE   \n",
       "4  Divine Secrets of the Ya-Ya Sisterhood : A Novel     Rebecca Wells   \n",
       "\n",
       "          Publisher                                           Features  \n",
       "0  Ballantine Books  Flesh Tones: A Novel, M. J. Rose, Ballantine B...  \n",
       "1  Ballantine Books  Flesh Tones: A Novel, M. J. Rose, Ballantine B...  \n",
       "2         Tor Books  Ender's Game (Ender Wiggins Saga (Paperback)),...  \n",
       "3           Vintage  In Cold Blood (Vintage International), TRUMAN ...  \n",
       "4     HarperCollins  Divine Secrets of the Ya-Ya Sisterhood : A Nov...  "
      ]
     },
     "execution_count": 34,
     "metadata": {},
     "output_type": "execute_result"
    }
   ],
   "source": [
    "result.head()\n"
   ]
  },
  {
   "cell_type": "code",
   "execution_count": 35,
   "metadata": {},
   "outputs": [
    {
     "data": {
      "text/plain": [
       "16729"
      ]
     },
     "execution_count": 35,
     "metadata": {},
     "output_type": "execute_result"
    }
   ],
   "source": [
    "result['Publisher'].nunique()"
   ]
  },
  {
   "cell_type": "code",
   "execution_count": 36,
   "metadata": {},
   "outputs": [
    {
     "name": "stdout",
     "output_type": "stream",
     "text": [
      "                      Publisher  Total Ratings Count\n",
      "1388           Ballantine Books                34724\n",
      "11710                    Pocket                31989\n",
      "1714   Berkley Publishing Group                28614\n",
      "15861              Warner Books                25506\n",
      "6557                  Harlequin                25027\n",
      "1418               Bantam Books                23598\n",
      "1414                     Bantam                20007\n",
      "13594               Signet Book                19155\n",
      "1246                       Avon                17352\n",
      "11339             Penguin Books                17033\n"
     ]
    }
   ],
   "source": [
    "publisher_ratings = result.groupby('Publisher')['Book-Rating'].count().reset_index()\n",
    "\n",
    "publisher_ratings = publisher_ratings.rename(columns={'Book-Rating': 'Total Ratings Count'})\n",
    "\n",
    "top_publishers = publisher_ratings.nlargest(10, 'Total Ratings Count')\n",
    "\n",
    "print(top_publishers)\n"
   ]
  },
  {
   "cell_type": "code",
   "execution_count": 37,
   "metadata": {},
   "outputs": [],
   "source": [
    "result.drop(['Book-Author', 'Publisher', 'User-ID', 'Book-Rating'], axis=1, inplace=True)\n"
   ]
  },
  {
   "cell_type": "code",
   "execution_count": 38,
   "metadata": {},
   "outputs": [
    {
     "data": {
      "text/plain": [
       "ISBN          0\n",
       "Book-Title    0\n",
       "Features      3\n",
       "dtype: int64"
      ]
     },
     "execution_count": 38,
     "metadata": {},
     "output_type": "execute_result"
    }
   ],
   "source": [
    "result.isnull().sum()\n"
   ]
  },
  {
   "cell_type": "code",
   "execution_count": 39,
   "metadata": {},
   "outputs": [],
   "source": [
    "result.dropna(subset=['Features'], inplace=True)"
   ]
  },
  {
   "cell_type": "code",
   "execution_count": 40,
   "metadata": {},
   "outputs": [
    {
     "data": {
      "text/html": [
       "<div>\n",
       "<style scoped>\n",
       "    .dataframe tbody tr th:only-of-type {\n",
       "        vertical-align: middle;\n",
       "    }\n",
       "\n",
       "    .dataframe tbody tr th {\n",
       "        vertical-align: top;\n",
       "    }\n",
       "\n",
       "    .dataframe thead th {\n",
       "        text-align: right;\n",
       "    }\n",
       "</style>\n",
       "<table border=\"1\" class=\"dataframe\">\n",
       "  <thead>\n",
       "    <tr style=\"text-align: right;\">\n",
       "      <th></th>\n",
       "      <th>ISBN</th>\n",
       "      <th>Book-Title</th>\n",
       "      <th>Features</th>\n",
       "    </tr>\n",
       "  </thead>\n",
       "  <tbody>\n",
       "    <tr>\n",
       "      <th>0</th>\n",
       "      <td>034545104X</td>\n",
       "      <td>Flesh Tones: A Novel</td>\n",
       "      <td>flesh tones: a novel, m. j. rose, ballantine b...</td>\n",
       "    </tr>\n",
       "    <tr>\n",
       "      <th>1</th>\n",
       "      <td>034545104X</td>\n",
       "      <td>Flesh Tones: A Novel</td>\n",
       "      <td>flesh tones: a novel, m. j. rose, ballantine b...</td>\n",
       "    </tr>\n",
       "    <tr>\n",
       "      <th>2</th>\n",
       "      <td>0812533550</td>\n",
       "      <td>Ender's Game (Ender Wiggins Saga (Paperback))</td>\n",
       "      <td>ender's game (ender wiggins saga (paperback)),...</td>\n",
       "    </tr>\n",
       "    <tr>\n",
       "      <th>3</th>\n",
       "      <td>0679745580</td>\n",
       "      <td>In Cold Blood (Vintage International)</td>\n",
       "      <td>in cold blood (vintage international), truman ...</td>\n",
       "    </tr>\n",
       "    <tr>\n",
       "      <th>4</th>\n",
       "      <td>0060173289</td>\n",
       "      <td>Divine Secrets of the Ya-Ya Sisterhood : A Novel</td>\n",
       "      <td>divine secrets of the ya-ya sisterhood : a nov...</td>\n",
       "    </tr>\n",
       "    <tr>\n",
       "      <th>...</th>\n",
       "      <td>...</td>\n",
       "      <td>...</td>\n",
       "      <td>...</td>\n",
       "    </tr>\n",
       "    <tr>\n",
       "      <th>1031131</th>\n",
       "      <td>2862749796</td>\n",
       "      <td>Le Huit</td>\n",
       "      <td>le huit, katherine neville, le cherche midi</td>\n",
       "    </tr>\n",
       "    <tr>\n",
       "      <th>1031132</th>\n",
       "      <td>3788097000</td>\n",
       "      <td>Ludwig Marum: Briefe aus dem Konzentrationslag...</td>\n",
       "      <td>ludwig marum: briefe aus dem konzentrationslag...</td>\n",
       "    </tr>\n",
       "    <tr>\n",
       "      <th>1031133</th>\n",
       "      <td>0553571001</td>\n",
       "      <td>Christmas With Anne and Other Holiday Stories:...</td>\n",
       "      <td>christmas with anne and other holiday stories:...</td>\n",
       "    </tr>\n",
       "    <tr>\n",
       "      <th>1031134</th>\n",
       "      <td>0689822294</td>\n",
       "      <td>Heaven (Coretta Scott King Author Award Winner)</td>\n",
       "      <td>heaven (coretta scott king author award winner...</td>\n",
       "    </tr>\n",
       "    <tr>\n",
       "      <th>1031135</th>\n",
       "      <td>0583307841</td>\n",
       "      <td>ROBOT RACE (MICRO ADV 6)</td>\n",
       "      <td>robot race (micro adv 6), david antony kroft, ...</td>\n",
       "    </tr>\n",
       "  </tbody>\n",
       "</table>\n",
       "<p>1031133 rows × 3 columns</p>\n",
       "</div>"
      ],
      "text/plain": [
       "               ISBN                                         Book-Title  \\\n",
       "0        034545104X                               Flesh Tones: A Novel   \n",
       "1        034545104X                               Flesh Tones: A Novel   \n",
       "2        0812533550      Ender's Game (Ender Wiggins Saga (Paperback))   \n",
       "3        0679745580              In Cold Blood (Vintage International)   \n",
       "4        0060173289   Divine Secrets of the Ya-Ya Sisterhood : A Novel   \n",
       "...             ...                                                ...   \n",
       "1031131  2862749796                                            Le Huit   \n",
       "1031132  3788097000  Ludwig Marum: Briefe aus dem Konzentrationslag...   \n",
       "1031133  0553571001  Christmas With Anne and Other Holiday Stories:...   \n",
       "1031134  0689822294    Heaven (Coretta Scott King Author Award Winner)   \n",
       "1031135  0583307841                           ROBOT RACE (MICRO ADV 6)   \n",
       "\n",
       "                                                  Features  \n",
       "0        flesh tones: a novel, m. j. rose, ballantine b...  \n",
       "1        flesh tones: a novel, m. j. rose, ballantine b...  \n",
       "2        ender's game (ender wiggins saga (paperback)),...  \n",
       "3        in cold blood (vintage international), truman ...  \n",
       "4        divine secrets of the ya-ya sisterhood : a nov...  \n",
       "...                                                    ...  \n",
       "1031131        le huit, katherine neville, le cherche midi  \n",
       "1031132  ludwig marum: briefe aus dem konzentrationslag...  \n",
       "1031133  christmas with anne and other holiday stories:...  \n",
       "1031134  heaven (coretta scott king author award winner...  \n",
       "1031135  robot race (micro adv 6), david antony kroft, ...  \n",
       "\n",
       "[1031133 rows x 3 columns]"
      ]
     },
     "execution_count": 40,
     "metadata": {},
     "output_type": "execute_result"
    }
   ],
   "source": [
    "result['Features'] = result['Features'].apply(lambda x : str(x).lower())\n",
    "result"
   ]
  },
  {
   "cell_type": "code",
   "execution_count": 41,
   "metadata": {},
   "outputs": [],
   "source": [
    "import nltk\n",
    "from nltk.stem import PorterStemmer\n",
    "ps = PorterStemmer()"
   ]
  },
  {
   "cell_type": "code",
   "execution_count": 42,
   "metadata": {},
   "outputs": [],
   "source": [
    "def stem(text):\n",
    "    arr = []\n",
    "    for i in text.split():\n",
    "        arr.append(ps.stem(i))\n",
    "    return ' '.join(arr)"
   ]
  },
  {
   "cell_type": "code",
   "execution_count": 43,
   "metadata": {},
   "outputs": [
    {
     "data": {
      "text/plain": [
       "0           flesh tones: a novel, m. j. rose, ballantin book\n",
       "1           flesh tones: a novel, m. j. rose, ballantin book\n",
       "2          ender' game (ender wiggin saga (paperback)), o...\n",
       "3          in cold blood (vintag international), truman c...\n",
       "4          divin secret of the ya-ya sisterhood : a novel...\n",
       "                                 ...                        \n",
       "1031131            le huit, katherin neville, le cherch midi\n",
       "1031132    ludwig marum: brief au dem konzentrationslag k...\n",
       "1031133    christma with ann and other holiday stories: a...\n",
       "1031134    heaven (coretta scott king author award winner...\n",
       "1031135    robot race (micro adv 6), david antoni kroft, ...\n",
       "Name: Features, Length: 1031133, dtype: object"
      ]
     },
     "execution_count": 43,
     "metadata": {},
     "output_type": "execute_result"
    }
   ],
   "source": [
    "result['Features'].apply(stem)\n"
   ]
  },
  {
   "cell_type": "code",
   "execution_count": 44,
   "metadata": {},
   "outputs": [
    {
     "data": {
      "text/html": [
       "<div>\n",
       "<style scoped>\n",
       "    .dataframe tbody tr th:only-of-type {\n",
       "        vertical-align: middle;\n",
       "    }\n",
       "\n",
       "    .dataframe tbody tr th {\n",
       "        vertical-align: top;\n",
       "    }\n",
       "\n",
       "    .dataframe thead th {\n",
       "        text-align: right;\n",
       "    }\n",
       "</style>\n",
       "<table border=\"1\" class=\"dataframe\">\n",
       "  <thead>\n",
       "    <tr style=\"text-align: right;\">\n",
       "      <th></th>\n",
       "      <th>ISBN</th>\n",
       "      <th>Book-Title</th>\n",
       "      <th>Features</th>\n",
       "    </tr>\n",
       "  </thead>\n",
       "  <tbody>\n",
       "    <tr>\n",
       "      <th>0</th>\n",
       "      <td>034545104X</td>\n",
       "      <td>Flesh Tones: A Novel</td>\n",
       "      <td>flesh tones: a novel, m. j. rose, ballantine b...</td>\n",
       "    </tr>\n",
       "    <tr>\n",
       "      <th>1</th>\n",
       "      <td>034545104X</td>\n",
       "      <td>Flesh Tones: A Novel</td>\n",
       "      <td>flesh tones: a novel, m. j. rose, ballantine b...</td>\n",
       "    </tr>\n",
       "    <tr>\n",
       "      <th>2</th>\n",
       "      <td>0812533550</td>\n",
       "      <td>Ender's Game (Ender Wiggins Saga (Paperback))</td>\n",
       "      <td>ender's game (ender wiggins saga (paperback)),...</td>\n",
       "    </tr>\n",
       "    <tr>\n",
       "      <th>3</th>\n",
       "      <td>0679745580</td>\n",
       "      <td>In Cold Blood (Vintage International)</td>\n",
       "      <td>in cold blood (vintage international), truman ...</td>\n",
       "    </tr>\n",
       "    <tr>\n",
       "      <th>4</th>\n",
       "      <td>0060173289</td>\n",
       "      <td>Divine Secrets of the Ya-Ya Sisterhood : A Novel</td>\n",
       "      <td>divine secrets of the ya-ya sisterhood : a nov...</td>\n",
       "    </tr>\n",
       "  </tbody>\n",
       "</table>\n",
       "</div>"
      ],
      "text/plain": [
       "         ISBN                                        Book-Title  \\\n",
       "0  034545104X                              Flesh Tones: A Novel   \n",
       "1  034545104X                              Flesh Tones: A Novel   \n",
       "2  0812533550     Ender's Game (Ender Wiggins Saga (Paperback))   \n",
       "3  0679745580             In Cold Blood (Vintage International)   \n",
       "4  0060173289  Divine Secrets of the Ya-Ya Sisterhood : A Novel   \n",
       "\n",
       "                                            Features  \n",
       "0  flesh tones: a novel, m. j. rose, ballantine b...  \n",
       "1  flesh tones: a novel, m. j. rose, ballantine b...  \n",
       "2  ender's game (ender wiggins saga (paperback)),...  \n",
       "3  in cold blood (vintage international), truman ...  \n",
       "4  divine secrets of the ya-ya sisterhood : a nov...  "
      ]
     },
     "execution_count": 44,
     "metadata": {},
     "output_type": "execute_result"
    }
   ],
   "source": [
    "result.head()"
   ]
  },
  {
   "cell_type": "code",
   "execution_count": 45,
   "metadata": {},
   "outputs": [
    {
     "name": "stderr",
     "output_type": "stream",
     "text": [
      "Calculating Cosine Similarity: 100%|██████████| 1000/1000 [05:14<00:00,  3.18it/s]\n"
     ]
    }
   ],
   "source": [
    "from sklearn.feature_extraction.text import TfidfVectorizer\n",
    "\n",
    "content_filtered = result[result['Book-Title'] == 'To Share a Sunset']\n",
    "sample_size = 1000\n",
    "\n",
    "additional_sample_size = sample_size - len(content_filtered)\n",
    "content_additional_sampled = result[~result.index.isin(content_filtered.index)].sample(n=additional_sample_size, random_state=42)\n",
    "\n",
    "content_sampled = pd.concat([content_filtered, content_additional_sampled])\n",
    "\n",
    "\n",
    "tfidf_vectorizer = TfidfVectorizer(stop_words='english')\n",
    "tfidf_matrix_sampled = tfidf_vectorizer.fit_transform(content_sampled['Features'])\n",
    "\n",
    "from sklearn.metrics.pairwise import cosine_similarity\n",
    "from tqdm import tqdm  \n",
    "import numpy as np\n",
    "\n",
    "def calculate_cosine_similarity_with_progress(tfidf_matrix):\n",
    "    cosine_sim = np.zeros((tfidf_matrix.shape[0], tfidf_matrix.shape[0]))\n",
    "\n",
    "    for i in tqdm(range(tfidf_matrix.shape[0]), desc=\"Calculating Cosine Similarity\"):\n",
    "        for j in range(tfidf_matrix.shape[0]):\n",
    "            cosine_sim[i][j] = cosine_similarity(tfidf_matrix[i], tfidf_matrix[j])[0, 0]\n",
    "    return cosine_sim\n",
    "\n",
    "cosine_sim_sampled = calculate_cosine_similarity_with_progress(tfidf_matrix_sampled)\n",
    "\n",
    "\n"
   ]
  },
  {
   "cell_type": "code",
   "execution_count": 46,
   "metadata": {},
   "outputs": [],
   "source": [
    "cosine_sim_df = pd.DataFrame(cosine_sim_sampled, index=content_sampled.index, columns=content_sampled.index)\n"
   ]
  },
  {
   "cell_type": "code",
   "execution_count": 48,
   "metadata": {},
   "outputs": [
    {
     "name": "stdout",
     "output_type": "stream",
     "text": [
      "Book indices: Int64Index([186745], dtype='int64')\n",
      "Length of content_sampled: 1000\n",
      "Length of cosine_sim_sampled: 1000\n",
      "Index in sampled data: 186745\n",
      "Type of index in sampled data: <class 'numpy.int64'>\n",
      "Unique indices in content_sampled:\n",
      "Int64Index([186745, 320093, 237247, 504863,  82685,  46503, 245208, 235909,\n",
      "            990022, 516874,\n",
      "            ...\n",
      "            593632, 341517, 917082, 758697, 319516, 919056, 237896, 474686,\n",
      "            138351, 121752],\n",
      "           dtype='int64', length=1000)\n",
      "+---------+--------------------------------------------+--------------------+\n",
      "|   Index | Recommended Book                           |   Similarity Score |\n",
      "+=========+============================================+====================+\n",
      "|     945 | Night Games (Love Spell Timeswept Romance) |           0.316604 |\n",
      "+---------+--------------------------------------------+--------------------+\n",
      "|     882 | The Love Potion (Time of Your Life)        |           0.276641 |\n",
      "+---------+--------------------------------------------+--------------------+\n",
      "|     589 | Snoops in the City                         |           0.220726 |\n",
      "+---------+--------------------------------------------+--------------------+\n",
      "|     789 | George &amp; the Virgin                    |           0.217325 |\n",
      "+---------+--------------------------------------------+--------------------+\n",
      "|     724 | Ravyn's Flight                             |           0.216366 |\n",
      "+---------+--------------------------------------------+--------------------+\n"
     ]
    }
   ],
   "source": [
    "from tabulate import tabulate\n",
    "def recommend_book(book_title):\n",
    "    book_indices = content_sampled[content_sampled['Book-Title'] == book_title].index\n",
    "    print(f\"Book indices: {book_indices}\")\n",
    "    \n",
    "    if len(book_indices) == 0:\n",
    "        print(f\"Book with title '{book_title}' not found in sampled data.\")\n",
    "        return\n",
    "    \n",
    "    index_in_sampled = book_indices[0]\n",
    "    \n",
    "    print(f\"Length of content_sampled: {len(content_sampled)}\")\n",
    "    print(f\"Length of cosine_sim_sampled: {len(cosine_sim_sampled)}\")\n",
    "    print(f\"Index in sampled data: {index_in_sampled}\")\n",
    "    print(f\"Type of index in sampled data: {type(index_in_sampled)}\")\n",
    "    \n",
    "    if index_in_sampled not in content_sampled.index:\n",
    "        print(\"Error: Invalid index in sampled data.\")\n",
    "        return\n",
    "    \n",
    "    print(\"Unique indices in content_sampled:\")\n",
    "    print(content_sampled.index.unique())\n",
    "    \n",
    "    index_in_cosine_sim = content_sampled.index.get_loc(index_in_sampled)\n",
    "    \n",
    "    if index_in_cosine_sim >= len(cosine_sim_sampled) or index_in_cosine_sim < 0:\n",
    "        print(\"Error: Invalid index for cosine similarity matrix.\")\n",
    "        return\n",
    "    \n",
    "    cosine_row = cosine_sim_df.loc[index_in_sampled]\n",
    "    similar_books = sorted(enumerate(cosine_row), key=lambda x: x[1], reverse=True)[1:6]\n",
    "    \n",
    "    table_data = []\n",
    "    for i in similar_books:\n",
    "        recommended_index = i[0]\n",
    "        recommended_title = content_sampled['Book-Title'].iloc[recommended_index]\n",
    "        similarity_score = i[1]\n",
    "        table_data.append([recommended_index, recommended_title, similarity_score])\n",
    "    \n",
    "    print(tabulate(table_data, headers=['Index', 'Recommended Book', 'Similarity Score'], tablefmt='grid'))\n",
    "\n",
    "recommend_book('To Share a Sunset')\n"
   ]
  },
  {
   "cell_type": "code",
   "execution_count": 49,
   "metadata": {},
   "outputs": [
    {
     "data": {
      "text/html": [
       "<div>\n",
       "<style scoped>\n",
       "    .dataframe tbody tr th:only-of-type {\n",
       "        vertical-align: middle;\n",
       "    }\n",
       "\n",
       "    .dataframe tbody tr th {\n",
       "        vertical-align: top;\n",
       "    }\n",
       "\n",
       "    .dataframe thead th {\n",
       "        text-align: right;\n",
       "    }\n",
       "</style>\n",
       "<table border=\"1\" class=\"dataframe\">\n",
       "  <thead>\n",
       "    <tr style=\"text-align: right;\">\n",
       "      <th></th>\n",
       "      <th>ISBN</th>\n",
       "      <th>Book-Title</th>\n",
       "      <th>Features</th>\n",
       "    </tr>\n",
       "  </thead>\n",
       "  <tbody>\n",
       "    <tr>\n",
       "      <th>186745</th>\n",
       "      <td>0505520036</td>\n",
       "      <td>To Share a Sunset</td>\n",
       "      <td>to share a sunset, sharice kendyl, love spell</td>\n",
       "    </tr>\n",
       "    <tr>\n",
       "      <th>320093</th>\n",
       "      <td>0380564998</td>\n",
       "      <td>Jacob Have I Loved</td>\n",
       "      <td>jacob have i loved, katherine paterson, avon b...</td>\n",
       "    </tr>\n",
       "    <tr>\n",
       "      <th>237247</th>\n",
       "      <td>0684177730</td>\n",
       "      <td>The SKULL BENEATH THE SKIN</td>\n",
       "      <td>the skull beneath the skin, p. d. james, scribner</td>\n",
       "    </tr>\n",
       "    <tr>\n",
       "      <th>504863</th>\n",
       "      <td>2020580314</td>\n",
       "      <td>Panne de sens</td>\n",
       "      <td>panne de sens, mouss benia, seuil</td>\n",
       "    </tr>\n",
       "    <tr>\n",
       "      <th>82685</th>\n",
       "      <td>0515130044</td>\n",
       "      <td>The Attorney</td>\n",
       "      <td>the attorney, steve martini, jove books</td>\n",
       "    </tr>\n",
       "    <tr>\n",
       "      <th>...</th>\n",
       "      <td>...</td>\n",
       "      <td>...</td>\n",
       "      <td>...</td>\n",
       "    </tr>\n",
       "    <tr>\n",
       "      <th>919056</th>\n",
       "      <td>0671695304</td>\n",
       "      <td>FOREVER : A Novel of Good and Evil, Love and Hope</td>\n",
       "      <td>forever : a novel of good and evil, love and h...</td>\n",
       "    </tr>\n",
       "    <tr>\n",
       "      <th>237896</th>\n",
       "      <td>0440209986</td>\n",
       "      <td>Not Exactly a Brahmin</td>\n",
       "      <td>not exactly a brahmin, susan dunlap, dell</td>\n",
       "    </tr>\n",
       "    <tr>\n",
       "      <th>474686</th>\n",
       "      <td>0684857820</td>\n",
       "      <td>Lucky</td>\n",
       "      <td>lucky, alice sebold, scribner</td>\n",
       "    </tr>\n",
       "    <tr>\n",
       "      <th>138351</th>\n",
       "      <td>0533141435</td>\n",
       "      <td>The Other End of the Log: Memoirs of an Educat...</td>\n",
       "      <td>the other end of the log: memoirs of an educat...</td>\n",
       "    </tr>\n",
       "    <tr>\n",
       "      <th>121752</th>\n",
       "      <td>0440234743</td>\n",
       "      <td>The Testament</td>\n",
       "      <td>the testament, john grisham, dell</td>\n",
       "    </tr>\n",
       "  </tbody>\n",
       "</table>\n",
       "<p>1000 rows × 3 columns</p>\n",
       "</div>"
      ],
      "text/plain": [
       "              ISBN                                         Book-Title  \\\n",
       "186745  0505520036                                  To Share a Sunset   \n",
       "320093  0380564998                                 Jacob Have I Loved   \n",
       "237247  0684177730                         The SKULL BENEATH THE SKIN   \n",
       "504863  2020580314                                      Panne de sens   \n",
       "82685   0515130044                                       The Attorney   \n",
       "...            ...                                                ...   \n",
       "919056  0671695304  FOREVER : A Novel of Good and Evil, Love and Hope   \n",
       "237896  0440209986                              Not Exactly a Brahmin   \n",
       "474686  0684857820                                              Lucky   \n",
       "138351  0533141435  The Other End of the Log: Memoirs of an Educat...   \n",
       "121752  0440234743                                      The Testament   \n",
       "\n",
       "                                                 Features  \n",
       "186745      to share a sunset, sharice kendyl, love spell  \n",
       "320093  jacob have i loved, katherine paterson, avon b...  \n",
       "237247  the skull beneath the skin, p. d. james, scribner  \n",
       "504863                  panne de sens, mouss benia, seuil  \n",
       "82685             the attorney, steve martini, jove books  \n",
       "...                                                   ...  \n",
       "919056  forever : a novel of good and evil, love and h...  \n",
       "237896          not exactly a brahmin, susan dunlap, dell  \n",
       "474686                      lucky, alice sebold, scribner  \n",
       "138351  the other end of the log: memoirs of an educat...  \n",
       "121752                  the testament, john grisham, dell  \n",
       "\n",
       "[1000 rows x 3 columns]"
      ]
     },
     "execution_count": 49,
     "metadata": {},
     "output_type": "execute_result"
    }
   ],
   "source": [
    "content_sampled"
   ]
  },
  {
   "cell_type": "code",
   "execution_count": 50,
   "metadata": {},
   "outputs": [
    {
     "name": "stdout",
     "output_type": "stream",
     "text": [
      "Book indices: Int64Index([473686, 121752], dtype='int64')\n",
      "Length of content_sampled: 1000\n",
      "Length of cosine_sim_sampled: 1000\n",
      "Index in sampled data: 473686\n",
      "Type of index in sampled data: <class 'numpy.int64'>\n",
      "Unique indices in content_sampled:\n",
      "Int64Index([186745, 320093, 237247, 504863,  82685,  46503, 245208, 235909,\n",
      "            990022, 516874,\n",
      "            ...\n",
      "            593632, 341517, 917082, 758697, 319516, 919056, 237896, 474686,\n",
      "            138351, 121752],\n",
      "           dtype='int64', length=1000)\n",
      "+---------+--------------------+--------------------+\n",
      "|   Index | Recommended Book   |   Similarity Score |\n",
      "+=========+====================+====================+\n",
      "|     999 | The Testament      |           1        |\n",
      "+---------+--------------------+--------------------+\n",
      "|     717 | The King of Torts  |           0.519166 |\n",
      "+---------+--------------------+--------------------+\n",
      "|     180 | The Summons        |           0.500976 |\n",
      "+---------+--------------------+--------------------+\n",
      "|     578 | The Chamber        |           0.500976 |\n",
      "+---------+--------------------+--------------------+\n",
      "|     299 | The Firm           |           0.482114 |\n",
      "+---------+--------------------+--------------------+\n"
     ]
    }
   ],
   "source": [
    "recommend_book('The Testament')\n"
   ]
  },
  {
   "cell_type": "code",
   "execution_count": 51,
   "metadata": {},
   "outputs": [
    {
     "name": "stdout",
     "output_type": "stream",
     "text": [
      "Topic 1: books john grisham dell publishing bantam group harlequin book paperback\n",
      "Topic 2: books amp penguin avon little usa paperback cat novel press\n",
      "Topic 3: books st book publishing dean star martin group press novel\n",
      "Topic 4: books book mary bantam ballantine life warner publishing le love\n",
      "Topic 5: books warner mira press avon night steel danielle dell little\n"
     ]
    }
   ],
   "source": [
    "from sklearn.feature_extraction.text import TfidfVectorizer\n",
    "from sklearn.decomposition import LatentDirichletAllocation\n",
    "\n",
    "# Initialize a TF-IDF Vectorizer\n",
    "tfidf_vectorizer = TfidfVectorizer(stop_words='english')\n",
    "\n",
    "tfidf_matrix = tfidf_vectorizer.fit_transform(content_sampled['Features'])\n",
    "\n",
    "num_topics = 5 \n",
    "lda = LatentDirichletAllocation(n_components=num_topics, random_state=42)\n",
    "\n",
    "lda.fit(tfidf_matrix)\n",
    "\n",
    "# Get the top words for each topic\n",
    "feature_names = tfidf_vectorizer.get_feature_names_out()\n",
    "num_top_words = 10 \n",
    "topic_words = {}\n",
    "for topic, comp in enumerate(lda.components_):\n",
    "    word_idx = np.argsort(comp)[::-1][:num_top_words]\n",
    "    topic_words[topic] = [feature_names[i] for i in word_idx]\n",
    "\n",
    "# Print the top words for each topic\n",
    "for topic, words in topic_words.items():\n",
    "    print(f\"Topic {topic + 1}: {' '.join(words)}\")\n"
   ]
  },
  {
   "attachments": {},
   "cell_type": "markdown",
   "metadata": {},
   "source": [
    "# Using K-Means"
   ]
  },
  {
   "cell_type": "code",
   "execution_count": 55,
   "metadata": {},
   "outputs": [
    {
     "name": "stderr",
     "output_type": "stream",
     "text": [
      "/Users/nihal/opt/anaconda3/envs/tensorflow/lib/python3.9/site-packages/sklearn/cluster/_kmeans.py:870: FutureWarning: The default value of `n_init` will change from 10 to 'auto' in 1.4. Set the value of `n_init` explicitly to suppress the warning\n",
      "  warnings.warn(\n"
     ]
    }
   ],
   "source": [
    "from sklearn.feature_extraction.text import TfidfVectorizer\n",
    "from sklearn.cluster import KMeans\n",
    "\n",
    "# Feature extraction (TF-IDF on combined features)\n",
    "tfidf_vectorizer = TfidfVectorizer(stop_words='english')\n",
    "tfidf_matrix = tfidf_vectorizer.fit_transform(content_sampled['Features'])\n",
    "\n",
    "# Clustering\n",
    "num_clusters = 10  \n",
    "kmeans = KMeans(n_clusters=num_clusters, random_state=42)\n",
    "kmeans.fit(tfidf_matrix)\n",
    "\n",
    "content_sampled['Cluster'] = kmeans.labels_\n",
    "\n",
    "# Example: Recommend items from the same cluster as a given item\n",
    "def recommend_from_cluster(book_title):\n",
    "    cluster_label = content_sampled.loc[content_sampled['Book-Title'] == book_title, 'Cluster'].iloc[0]\n",
    "    recommended_books = content_sampled.loc[content_sampled['Cluster'] == cluster_label, 'Book-Title'].tolist()\n",
    "    return recommended_books\n"
   ]
  },
  {
   "cell_type": "code",
   "execution_count": 56,
   "metadata": {},
   "outputs": [
    {
     "data": {
      "text/plain": [
       "['Fine Things',\n",
       " 'Time Flies',\n",
       " 'Dreaming the Eagle (Scott, Manda. Boudica Trilogy.)',\n",
       " \"Perfect Evil (Maggie O'Dell Novels (Paperback))\",\n",
       " 'Vanished',\n",
       " 'The Gift',\n",
       " 'Outlander',\n",
       " 'Circle of Friends',\n",
       " 'Mean High Tide',\n",
       " 'Ramona the Brave (Ramona Quimby (Paperback))',\n",
       " 'The Summons',\n",
       " 'A Painted House',\n",
       " 'The Street Lawyer',\n",
       " 'The Firm',\n",
       " 'Invasion of Privacy',\n",
       " 'Roots',\n",
       " 'The Horse Whisperer',\n",
       " 'The Beautiful Stranger (The Rogues of Regent Street)',\n",
       " 'Space Search',\n",
       " 'Salad Herbs (Library of Culinary Arts)',\n",
       " 'Sunset in St. Tropez',\n",
       " 'Joshua and the City',\n",
       " 'The Chamber',\n",
       " 'The Story of Sacajawea, Guide to Lewis and Clark (Dell Yearling Biography)',\n",
       " 'Accident',\n",
       " 'One Summer',\n",
       " 'Summer Sisters',\n",
       " \"Sleeping Murder: Miss Marple's Last Case\",\n",
       " 'The Whisper of the Axe: A Novel',\n",
       " 'CRY IN THE NIGHT, A',\n",
       " 'Firefox Down',\n",
       " 'The King of Torts',\n",
       " 'Once in a Lifetime',\n",
       " 'Deep Cover: The Inside Story of How Dea Infighting, Incompetence, and Subterfuge Lost Us the Biggest Battle of the Drug War',\n",
       " 'The Testament',\n",
       " 'Message from Nam',\n",
       " 'Forbidden Love',\n",
       " 'A Painted House',\n",
       " \"Passion's Promise\",\n",
       " 'The Promise',\n",
       " 'Lone Eagle',\n",
       " 'Not Exactly a Brahmin',\n",
       " 'The Testament']"
      ]
     },
     "execution_count": 56,
     "metadata": {},
     "output_type": "execute_result"
    }
   ],
   "source": [
    "recommend_from_cluster('The Testament')\n"
   ]
  },
  {
   "cell_type": "code",
   "execution_count": null,
   "metadata": {},
   "outputs": [],
   "source": []
  },
  {
   "cell_type": "code",
   "execution_count": null,
   "metadata": {},
   "outputs": [],
   "source": []
  },
  {
   "cell_type": "code",
   "execution_count": null,
   "metadata": {},
   "outputs": [],
   "source": []
  },
  {
   "cell_type": "code",
   "execution_count": null,
   "metadata": {},
   "outputs": [],
   "source": []
  }
 ],
 "metadata": {
  "kernelspec": {
   "display_name": "Python 3",
   "language": "python",
   "name": "python3"
  },
  "language_info": {
   "codemirror_mode": {
    "name": "ipython",
    "version": 3
   },
   "file_extension": ".py",
   "mimetype": "text/x-python",
   "name": "python",
   "nbconvert_exporter": "python",
   "pygments_lexer": "ipython3",
   "version": "3.9.16"
  },
  "orig_nbformat": 4,
  "vscode": {
   "interpreter": {
    "hash": "ea4530b1dca0852200d5c269361da93a9fe4898c141beabedb2640caf2f03d44"
   }
  }
 },
 "nbformat": 4,
 "nbformat_minor": 2
}
